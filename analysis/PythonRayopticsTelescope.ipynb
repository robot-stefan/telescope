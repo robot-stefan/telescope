{
 "cells": [
  {
   "cell_type": "markdown",
   "metadata": {},
   "source": [
    "Telescope - Jupiter Notebook\n",
    "\n",
    "A notebook version of the rayoptics telescope python file. \n",
    "\n",
    "A file to explore the telescopes layout by adjusting mirror sizing and placement."
   ]
  },
  {
   "cell_type": "code",
   "execution_count": 29,
   "metadata": {},
   "outputs": [],
   "source": [
    "%matplotlib inline\n",
    "# use standard rayoptics environment\n",
    "from rayoptics.environment import *\n",
    "from rayoptics.optical.opticalmodel import *\n",
    "from rayoptics.util import misc_math\n",
    "\n",
    "import numpy as np\n",
    "import matplotlib.pyplot as plt\n",
    "\n",
    "isdark = False\n",
    "\n",
    "\n",
    "# Build the optical model\n",
    "opm = OpticalModel()\n",
    "sm = opm['seq_model']\n",
    "osp = opm['optical_spec']\n",
    "pm = opm['parax_model']\n",
    "em = opm['ele_model']\n",
    "pt = opm['part_tree']\n",
    "\n",
    "opm.system_spec.title = 'Telescope'\n",
    "opm.system_spec.dimensions = 'mm'\n",
    "\n"
   ]
  },
  {
   "cell_type": "code",
   "execution_count": 30,
   "metadata": {},
   "outputs": [],
   "source": [
    "# Specify aperture, field, and wavelengths\n",
    "osp['wvls'] = WvlSpec([(940.0, 1.0)], ref_wl=0)\n",
    "osp['pupil'] = PupilSpec(osp, key=['object', 'epd'], value=2.)\n",
    "osp['fov'] = FieldSpec(osp, key=('object', 'angle'), value=1.,\n",
    "                    #    flds=[1., .5, .25, -.25, -.5, -1.],\n",
    "                       flds=[1., -1.],\n",
    "                       is_relative=True)"
   ]
  },
  {
   "cell_type": "markdown",
   "metadata": {},
   "source": [
    "Settings for the mirrors size, shape, and spacing. These can be edited for another telescope or adjusted to explore relationships between components. "
   ]
  },
  {
   "cell_type": "code",
   "execution_count": 31,
   "metadata": {},
   "outputs": [],
   "source": [
    "# Setup info for mirrors\n",
    "## Primary\n",
    "mirrorPrimaryFocalLength = 1000 # units = mm\n",
    "mirrorPrimaryDiameter = 120 # units = mm\n",
    "mirrorPrimaryThickness = 30 # units = mm\n",
    "r = mirrorPrimaryFocalLength * 2\n",
    "## Air gap between primary and secondary\n",
    "distancePrimarySecondary = 760 # units = mm\n",
    "## Secondary\n",
    "mirrorSecondaryDiameter = 30 # units = mm\n",
    "mirrorSecondaryThickness = 3 # units = mm\n",
    "mirrorSecondaryAngle = 45 # units = degrees"
   ]
  },
  {
   "cell_type": "markdown",
   "metadata": {},
   "source": [
    "Functions for rotating the secondary mirror. This block was found at https://github.com/mjhoptics/ray-optics/discussions/165 Does not require editing. "
   ]
  },
  {
   "cell_type": "code",
   "execution_count": 32,
   "metadata": {},
   "outputs": [],
   "source": [
    "## addMirro() and shiftr() from https://github.com/mjhoptics/ray-optics/discussions/165\n",
    "# Used for secondary mirrors rotation\n",
    "def shiftr(euler, vec, noz=False):\n",
    "    rom = misc_math.euler2rot3d(euler)\n",
    "    # rom = Rotation.from_euler('xyz', euler, degrees=True).as_matrix()\n",
    "    xlat = np.dot(rom, vec)\n",
    "    if noz: xlat[2] = 0\n",
    "    return xlat\n",
    "\n",
    "def addMirror(sd, m, euler_design=[-45,0,0], euler_clocking=[0,0,0], euler_off=[0,0,0], shift=[0,0,0], clock_after=False):\n",
    "    if not clock_after:\n",
    "        opm.add_dummy_plane()\n",
    "        sm.ifcs[sm.cur_surface].decenter = srf.DecenterData('decenter')\n",
    "        sm.ifcs[sm.cur_surface].decenter.euler = np.array(euler_clocking)\n",
    "    opm.add_dummy_plane()\n",
    "    sm.ifcs[sm.cur_surface].decenter = srf.DecenterData('decenter')\n",
    "    sm.ifcs[sm.cur_surface].decenter.euler = np.array(euler_design)\n",
    "    opm.add_mirror(sd=sd)\n",
    "    mir1 = sm.cur_surface\n",
    "    sm.ifcs[mir1].decenter = srf.DecenterData('dec and return')\n",
    "    sm.ifcs[mir1].decenter.euler = np.array(euler_off)\n",
    "    sm.ifcs[mir1].decenter.dec = shiftr(np.array(euler_design), np.array(shift))\n",
    "    opm.add_dummy_plane()\n",
    "    sm.ifcs[sm.cur_surface].decenter = srf.DecenterData('decenter')\n",
    "    sm.ifcs[sm.cur_surface].decenter.euler = np.array(euler_design)\n",
    "    if clock_after:\n",
    "        opm.add_dummy_plane()\n",
    "        sm.ifcs[sm.cur_surface].decenter = srf.DecenterData('decenter')\n",
    "        sm.ifcs[sm.cur_surface].decenter.euler = np.array(euler_clocking)\n",
    "    return 1*m, mir1  # mirror_sign = -1*mirror_sign # change to -1 for odd bounces off mirror\n",
    "\n",
    "m_sign = 1"
   ]
  },
  {
   "cell_type": "markdown",
   "metadata": {},
   "source": [
    "Add in optical componets. There are two options for distances (units = mm) one near and one far away."
   ]
  },
  {
   "cell_type": "code",
   "execution_count": 33,
   "metadata": {},
   "outputs": [],
   "source": [
    "## Setup optical components \n",
    "# Distance out far away \n",
    "# sm.gaps[0].thi = 1e10\n",
    "\n",
    "# Distance near \n",
    "sm.gaps[0].thi = 1100\n",
    "\n",
    "# Add primary mirror\n",
    "opm.add_mirror(c=0.0, r=-r, profile=Spherical, sd=(mirrorPrimaryDiameter-1.5)*.5, t=mirrorPrimaryThickness)\n",
    "\n",
    "# Air seperation\n",
    "sm.add_surface([0, -distancePrimarySecondary, 'air'])\n",
    "\n",
    "# Add secondary mirror\n",
    "opm.add_dummy_plane(t=10)\n",
    "sm.set_stop() # target for the rays so ray origin and direction is fixed\n",
    "\n",
    "m_sign,mir1 = addMirror(mirrorSecondaryDiameter*.5, m_sign, [-mirrorSecondaryAngle,0,0], [0,0,0], [0,0,0], [0,0,0], clock_after=True)\n",
    "\n",
    "\n",
    "# Air seperation\n",
    "sm.add_surface([0, m_sign*100, 'air'])"
   ]
  },
  {
   "cell_type": "code",
   "execution_count": 34,
   "metadata": {},
   "outputs": [
    {
     "name": "stdout",
     "output_type": "stream",
     "text": [
      "              c            t        medium     mode   zdr      sd\n",
      "  Obj:     0.000000      1100.00       air             1      66.394\n",
      "    1:    -0.000500      30.0000       air    reflect -1      47.523\n",
      "    2:     0.000000     -760.000       air            -1      49.503\n",
      " Stop:     0.000000      10.0000       air            -1     0.27025\n",
      "    4:     0.000000      0.00000       air            -1      1.3883\n",
      "    5:     0.000000      0.00000       air    reflect  1      1.3883\n",
      "    6:     0.000000      0.00000       air             1     0.91806\n",
      "    7:     0.000000      0.00000       air             1     0.91806\n",
      "    8:     0.000000      100.000       air             1      1.0000\n",
      "  Img:     0.000000      0.00000                       1     0.91806\n",
      "0: Object (DummyInterface): Surface(lbl='Obj', profile=Spherical(c=0.0), interact_mode='dummy')\n",
      "1: AG37 (AirGap): Gap(t=1100, medium=<opticalglass.opticalmedium.Air object at 0x7fcb33781840>)\n",
      "2: M9 (Mirror): Mirror: Spherical(c=-0.0005), t=2.3762, sd=47.5233\n",
      "3: AG38 (AirGap): Gap(t=30, medium=<opticalglass.opticalmedium.Air object at 0x7fcb33781840>)\n",
      "4: S9 (SurfaceInterface): Surface: Spherical(c=0), sd=49.5033\n",
      "5: AG39 (AirGap): Gap(t=-760, medium=<opticalglass.opticalmedium.Air object at 0x7fcb32f52950>)\n",
      "6: D27 (DummyInterface): Surface(profile=Spherical(c=0.0), interact_mode='dummy')\n",
      "7: AG40 (AirGap): Gap(t=10, medium=<opticalglass.opticalmedium.Air object at 0x7fcb33781840>)\n",
      "8: D28 (DummyInterface): Surface(profile=Spherical(c=0.0), interact_mode='dummy')\n",
      "9: AG41 (AirGap): Gap(t=0.0, medium=<opticalglass.opticalmedium.Air object at 0x7fcb33781840>)\n",
      "10: M10 (Mirror): Mirror: Spherical(c=0.0), t=0.0694, sd=1.3883\n",
      "11: AG42 (AirGap): Gap(t=0.0, medium=<opticalglass.opticalmedium.Air object at 0x7fcb33781840>)\n",
      "12: D29 (DummyInterface): Surface(profile=Spherical(c=0.0), interact_mode='dummy')\n",
      "13: AG43 (AirGap): Gap(t=0.0, medium=<opticalglass.opticalmedium.Air object at 0x7fcb33781840>)\n",
      "14: D30 (DummyInterface): Surface(profile=Spherical(c=0.0), interact_mode='dummy')\n",
      "15: AG44 (AirGap): Gap(t=0.0, medium=<opticalglass.opticalmedium.Air object at 0x7fcb33781840>)\n",
      "16: Image (DummyInterface): Surface(lbl='Img', profile=Spherical(c=0.0), interact_mode='dummy')\n"
     ]
    }
   ],
   "source": [
    "# Update and list elements\n",
    "sm.list_model()\n",
    "em.list_elements()\n",
    "opm.update_model()\n",
    "\n"
   ]
  },
  {
   "cell_type": "code",
   "execution_count": 35,
   "metadata": {},
   "outputs": [
    {
     "name": "stderr",
     "output_type": "stream",
     "text": [
      "Ignoring fixed y limits to fulfill fixed data aspect with adjustable data limits.\n",
      "Ignoring fixed x limits to fulfill fixed data aspect with adjustable data limits.\n"
     ]
    },
    {
     "data": {
      "image/png": "[encoded data removed]",
      "text/plain": [
       "<InteractiveLayout size 640x480 with 1 Axes>"
      ]
     },
     "metadata": {},
     "output_type": "display_data"
    }
   ],
   "source": [
    "## Plot and display\n",
    "# This uses QT you will need to have qt installed if in a notebook\n",
    "# you will need to run in python directly for interactive window \n",
    "# functions (pan, zoom, save imge, etc).\n",
    "fig = plt.figure(FigureClass=InteractiveLayout, opt_model=opm, \n",
    "                 do_draw_rays=True, is_dark=isdark).plot() #, clip_rays=True)\n",
    "plt.show()"
   ]
  }
 ],
 "metadata": {
  "kernelspec": {
   "display_name": ".venv",
   "language": "python",
   "name": "python3"
  },
  "language_info": {
   "codemirror_mode": {
    "name": "ipython",
    "version": 3
   },
   "file_extension": ".py",
   "mimetype": "text/x-python",
   "name": "python",
   "nbconvert_exporter": "python",
   "pygments_lexer": "ipython3",
   "version": "3.10.12"
  }
 },
 "nbformat": 4,
 "nbformat_minor": 2
}
